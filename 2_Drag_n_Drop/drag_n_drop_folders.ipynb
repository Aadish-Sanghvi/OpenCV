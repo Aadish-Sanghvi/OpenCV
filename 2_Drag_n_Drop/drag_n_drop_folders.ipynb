{
 "cells": [
  {
   "cell_type": "code",
   "execution_count": 13,
   "metadata": {},
   "outputs": [
    {
     "name": "stderr",
     "output_type": "stream",
     "text": [
      "I0000 00:00:1742726809.455427 7346222 gl_context.cc:369] GL version: 2.1 (2.1 Metal - 88.1), renderer: Apple M1\n",
      "W0000 00:00:1742726809.496594 7377867 inference_feedback_manager.cc:114] Feedback manager requires a model with a single signature inference. Disabling support for feedback tensors.\n",
      "W0000 00:00:1742726809.506403 7377867 inference_feedback_manager.cc:114] Feedback manager requires a model with a single signature inference. Disabling support for feedback tensors.\n"
     ]
    },
    {
     "data": {
      "text/plain": [
       "-1"
      ]
     },
     "execution_count": 13,
     "metadata": {},
     "output_type": "execute_result"
    }
   ],
   "source": [
    "from pynput.mouse import Controller, Button\n",
    "import cv2\n",
    "import time\n",
    "import numpy as np\n",
    "import handtrackingmodule as htm\n",
    "\n",
    "# Initialize camera and hand detector\n",
    "cap = cv2.VideoCapture(0)\n",
    "cap.set(3, 1280)  # Frame width\n",
    "cap.set(4, 720)   # Frame height\n",
    "\n",
    "detector = htm.handDetector(detectionCon=0.7)\n",
    "mouse = Controller()\n",
    "dragging = False  # Dragging state\n",
    "last_click_time = 0\n",
    "click_cooldown = 0.5  # Cooldown for better response\n",
    "drag_cooldown = 0.5  # Prevents instant re-drag\n",
    "\n",
    "# Screen & padding settings\n",
    "screen_w, screen_h = 1920, 1080  # Change according to your screen\n",
    "frame_w, frame_h = 1280, 720     # Webcam frame size\n",
    "padding = 200  # Reduce hand movement needed\n",
    "last_drag_time = 0  # Track last drag action\n",
    "\n",
    "# Cursor smoothing parameters\n",
    "smooth_factor = 0.2  # Controls smoothness (higher = smoother)\n",
    "prev_x, prev_y = 0, 0  # Store previous cursor positions\n",
    "\n",
    "while True:\n",
    "    success, img = cap.read()\n",
    "    img = cv2.flip(img, 1)  # Mirror image\n",
    "    img = detector.findHands(img)\n",
    "    lmList = detector.findPosition(img)\n",
    "\n",
    "    if lmList and len(lmList) > 20:\n",
    "        # Cursor follows 9th landmark (Index base)\n",
    "        cursor = lmList[0]\n",
    "        index_tip = lmList[8]     # Index tip\n",
    "        middle_tip = lmList[12]   # Middle tip\n",
    "        ring_tip = lmList[16]     # Ring tip\n",
    "\n",
    "        # Apply padding and map to screen size\n",
    "        raw_x = ((cursor[1] - padding) / (frame_w - 2 * padding)) * screen_w\n",
    "        raw_y = ((cursor[2] - padding) / (frame_h - 2 * padding)) * screen_h\n",
    "\n",
    "        # Ensure cursor stays within screen bounds\n",
    "        raw_x = max(0, min(screen_w, raw_x))\n",
    "        raw_y = max(0, min(screen_h, raw_y))\n",
    "\n",
    "        # Smooth cursor movement\n",
    "        cursor_x = int(prev_x * (1 - smooth_factor) + raw_x * smooth_factor)\n",
    "        cursor_y = int(prev_y * (1 - smooth_factor) + raw_y * smooth_factor)\n",
    "\n",
    "        prev_x, prev_y = cursor_x, cursor_y  # Update previous positions\n",
    "\n",
    "        # Move cursor\n",
    "        mouse.position = (cursor_x, cursor_y)\n",
    "\n",
    "        # ✅ Detect movement relative to 9th landmark\n",
    "        index_moving = (index_tip[2] - cursor[2]) < -300\n",
    "        middle_moving = (middle_tip[2] - cursor[2]) < -300\n",
    "        ring_moving = (ring_tip[2] - cursor[2]) < -250\n",
    "        # print(ring_tip[2] - cursor[2])\n",
    "\n",
    "        curr_time = time.time()  # Get current time\n",
    "\n",
    "        # 1️⃣ **Single Click:** Only index finger moves\n",
    "        if index_moving and not middle_moving and not ring_moving:\n",
    "            if curr_time - last_click_time > click_cooldown:\n",
    "                mouse.click(Button.left, 1)\n",
    "                last_click_time = curr_time\n",
    "\n",
    "        # 2️⃣ **Double Click:** Index & middle move together\n",
    "        elif index_moving and middle_moving and not ring_moving:\n",
    "            if curr_time - last_click_time > click_cooldown:\n",
    "                mouse.click(Button.left, 2)\n",
    "                last_click_time = curr_time\n",
    "\n",
    "        # 3️⃣ **Drag Start:** Index, middle, and ring move together\n",
    "        elif index_moving and middle_moving and ring_moving and not dragging:\n",
    "            if curr_time - last_drag_time > drag_cooldown:\n",
    "                mouse.press(Button.left)\n",
    "                dragging = True\n",
    "                last_drag_time = curr_time  # Update last drag time\n",
    "\n",
    "        # 4️⃣ **Drop (Release Drag):** Open palm (All fingers up)\n",
    "        fingers = detector.getFingers(img)\n",
    "        if sum(fingers) == 5 and dragging:\n",
    "            mouse.release(Button.left)\n",
    "            dragging = False  # Reset dragging so we can drag again\n",
    "\n",
    "    # Show Webcam Feed\n",
    "    cv2.imshow(\"Webcam\", img)\n",
    "    if cv2.waitKey(1) & 0xFF == ord('q'):\n",
    "        break\n",
    "\n",
    "cap.release()\n",
    "cv2.destroyAllWindows()\n",
    "cv2.waitKey(1)"
   ]
  },
  {
   "cell_type": "code",
   "execution_count": null,
   "metadata": {},
   "outputs": [],
   "source": []
  }
 ],
 "metadata": {
  "kernelspec": {
   "display_name": "Python 3",
   "language": "python",
   "name": "python3"
  },
  "language_info": {
   "codemirror_mode": {
    "name": "ipython",
    "version": 3
   },
   "file_extension": ".py",
   "mimetype": "text/x-python",
   "name": "python",
   "nbconvert_exporter": "python",
   "pygments_lexer": "ipython3",
   "version": "3.12.4"
  }
 },
 "nbformat": 4,
 "nbformat_minor": 2
}
